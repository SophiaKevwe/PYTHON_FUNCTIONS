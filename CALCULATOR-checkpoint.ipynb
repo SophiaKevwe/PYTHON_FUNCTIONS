{
 "cells": [
  {
   "cell_type": "markdown",
   "id": "10f33910",
   "metadata": {},
   "source": [
    "# CALCULATOR FUNCTION"
   ]
  },
  {
   "cell_type": "code",
   "execution_count": null,
   "id": "dc8a3127",
   "metadata": {},
   "outputs": [
    {
     "name": "stdout",
     "output_type": "stream",
     "text": [
      "WELCOME TO YOUR CALCULATOR\n",
      "THESE ARE THE OPERATION LETTERS\n",
      "a FOR ADDITION\n",
      "b FOR SUBTRACTION\n",
      "c FOR MULTIPLICATION\n",
      "d FOR DIVISION\n",
      "e FOR EXPONENTIAL\n",
      "Enter an operation letter: c\n",
      "Enter first value: 9\n",
      "Enter second value: 8\n",
      "The product of  9 and 8 is 72\n",
      "Do you wish to continue, pick yes/no: yes\n",
      "WELCOME TO YOUR CALCULATOR\n",
      "THESE ARE THE OPERATION LETTERS\n",
      "a FOR ADDITION\n",
      "b FOR SUBTRACTION\n",
      "c FOR MULTIPLICATION\n",
      "d FOR DIVISION\n",
      "e FOR EXPONENTIAL\n",
      "Enter an operation letter: b\n",
      "Enter first value: 9\n",
      "Enter second value: 8\n",
      "The difference between  9 and 8 is 1\n",
      "Do you wish to continue, pick yes/no: no\n",
      "GOODBYE.\n"
     ]
    }
   ],
   "source": [
    "def add(a,b):\n",
    "    c=a+b\n",
    "    print(\"The sum of \",a,\"and\",b,\"is\",c)\n",
    "def subt(a,b):\n",
    "    c=a-b\n",
    "    print(\"The difference between \",a,\"and\",b,\"is\",c)\n",
    "def mult(a,b):\n",
    "    c=a*b\n",
    "    print(\"The product of \",a,\"and\",b,\"is\",c)\n",
    "def divi(a,b):\n",
    "    c=a/b\n",
    "    print(a,\"divided by \",b,\"is\",c)\n",
    "def expo(a,b):\n",
    "    c=a**b\n",
    "    print(a,\"raised to the power of \",b,\"is\",c)\n",
    "def calc():\n",
    "print(\"WELCOME TO YOUR CALCULATOR\")\n",
    "    print(\"THESE ARE THE OPERATION LETTERS\")\n",
    "    print(\"a FOR ADDITION\")\n",
    "    print(\"b FOR SUBTRACTION\")\n",
    "    print(\"c FOR MULTIPLICATION\")\n",
    "    print(\"d FOR DIVISION\")\n",
    "    print(\"e FOR EXPONENTIAL\")\n",
    "    opletter=input(\"Enter an operation letter: \")\n",
    "    num1=int(input(\"Enter first value: \"))\n",
    "    num2=int(input(\"Enter second value: \"))\n",
    "    if opletter == \"a\":\n",
    "        add(num1,num2)\n",
    "    elif opletter == \"b\":\n",
    "        subt(num1,num2)\n",
    "    elif opletter == \"c\":\n",
    "        mult(num1,num2)\n",
    "    elif opletter == \"d\":\n",
    "        divi(num1,num2)\n",
    "    elif opletter == \"e\":\n",
    "        expo(num1,num2)\n",
    "    else:\n",
    "        print(\"INVALID INPUT.\")\n",
    "    ans=input(\"Do you wish to continue, pick yes/no: \")\n",
    "    if ans==\"yes\":\n",
    "        calc()\n",
    "    else:\n",
    "        print(\"GOODBYE.\")\n",
    "calc()\n"
   ]
  },
  {
   "cell_type": "markdown",
   "id": "9b3a9c9a",
   "metadata": {},
   "source": [
    "# WHILE LOOP"
   ]
  },
  {
   "cell_type": "code",
   "execution_count": 7,
   "id": "5123cff7",
   "metadata": {},
   "outputs": [
    {
     "name": "stdout",
     "output_type": "stream",
     "text": [
      "TREADMILL\n",
      "How long have you ran: 60\n",
      "NUMBER OF CALORIES BURNED OVER  60 minutes.\n",
      "For an adult, in 10 mins you have burned 42.0 calories.\n",
      "For a teen, in 10 mins you have burned 35.0 calories.\n",
      "For an adult, in 15 mins you have burned 63.0 calories.\n",
      "For a teen, in 15 mins you have burned 52.5 calories.\n",
      "For an adult, in 20 mins you have burned 84.0 calories.\n",
      "For a teen, in 20 mins you have burned 70.0 calories.\n",
      "For an adult, in 25 mins you have burned 105.0 calories.\n",
      "For a teen, in 25 mins you have burned 87.5 calories.\n",
      "For an adult, in 30 mins you have burned 126.0 calories.\n",
      "For a teen, in 30 mins you have burned 105.0 calories.\n",
      "For an adult, in 60 mins you have burned 252.0 calories.\n",
      "For a teen, in 60 mins you have burned 210.0 calories.\n",
      "GO AGAIN!!!!!!\n",
      "How long have you ran: 5\n",
      "You have burned 21.0 minutes for an adult.\n",
      "You have burned 17.5 minutes for a teen.\n"
     ]
    }
   ],
   "source": [
    "print(\"TREADMILL\")\n",
    "minutes=int(input(\"How long have you ran: \"))\n",
    "print(\"NUMBER OF CALORIES BURNED OVER \",minutes,\"minutes.\")\n",
    "caloriea=4.2\n",
    "caloriet=3.5\n",
    "while minutes>9:\n",
    "    calorie_a=4.2*10\n",
    "    calorie_t=3.5*10\n",
    "    print(\"For an adult, in 10 mins you have burned\",calorie_a,\"calories.\")\n",
    "    print(\"For a teen, in 10 mins you have burned\",calorie_t,\"calories.\")\n",
    "    print(\"For an adult, in 15 mins you have burned\",caloriea*15,\"calories.\")\n",
    "    print(\"For a teen, in 15 mins you have burned\",caloriet*15,\"calories.\")\n",
    "    print(\"For an adult, in 20 mins you have burned\",caloriea*20,\"calories.\")\n",
    "    print(\"For a teen, in 20 mins you have burned\",caloriet*20,\"calories.\")\n",
    "    print(\"For an adult, in 25 mins you have burned\",caloriea*25,\"calories.\")\n",
    "    print(\"For a teen, in 25 mins you have burned\",caloriet*25,\"calories.\")\n",
    "    print(\"For an adult, in 30 mins you have burned\",caloriea*30,\"calories.\")\n",
    "    print(\"For a teen, in 30 mins you have burned\",caloriet*30,\"calories.\")\n",
    "    calorie=4.2*minutes\n",
    "    calories=3.5*minutes    \n",
    "    print(\"For an adult, in\",minutes,\"mins you have burned\",calorie,\"calories.\")\n",
    "    print(\"For a teen, in\",minutes,\"mins you have burned\",calories,\"calories.\")\n",
    "    print(\"GO AGAIN!!!!!!\")\n",
    "    minutes=int(input(\"How long have you ran: \"))\n",
    "print(\"You have burned\",caloriea*minutes,\"minutes for an adult.\")\n",
    "print(\"You have burned\",caloriet*minutes,\"minutes for a teen.\")\n"
   ]
  },
  {
   "cell_type": "markdown",
   "id": "4ab582cf",
   "metadata": {},
   "source": [
    "# FOR LOOP(RANGE)"
   ]
  },
  {
   "cell_type": "code",
   "execution_count": 34,
   "id": "bee4ffb5",
   "metadata": {},
   "outputs": [
    {
     "name": "stdout",
     "output_type": "stream",
     "text": [
      "Size of population of organisms. \n",
      "Please enter the starting number of organisms: 2\n",
      "Please enter their average daily increase: 30\n",
      "Please enter the number of days it takes for them to multiply: 10\n",
      "DAY APPROXIMATE \t POPULATION\n",
      "1 \t\t\t 2.6\n",
      "DAY APPROXIMATE \t POPULATION\n",
      "2 \t\t\t 3.38\n",
      "DAY APPROXIMATE \t POPULATION\n",
      "3 \t\t\t 4.394\n",
      "DAY APPROXIMATE \t POPULATION\n",
      "4 \t\t\t 5.7122\n",
      "DAY APPROXIMATE \t POPULATION\n",
      "5 \t\t\t 7.42586\n",
      "DAY APPROXIMATE \t POPULATION\n",
      "6 \t\t\t 9.653618\n",
      "DAY APPROXIMATE \t POPULATION\n",
      "7 \t\t\t 12.5497034\n",
      "DAY APPROXIMATE \t POPULATION\n",
      "8 \t\t\t 16.31461442\n",
      "DAY APPROXIMATE \t POPULATION\n",
      "9 \t\t\t 21.208998746000002\n",
      "DAY APPROXIMATE \t POPULATION\n",
      "10 \t\t\t 27.571698369800004\n"
     ]
    }
   ],
   "source": [
    "print(\"Size of population of organisms. \")\n",
    "start_n=int(input(\"Please enter the starting number of organisms: \"))\n",
    "adi=float(input(\"Please enter their average daily increase: \"))\n",
    "ndm=int(input(\"Please enter the number of days it takes for them to multiply: \"))\n",
    "for x in range(1,ndm+1):\n",
    "    p=start_n*adi*0.01\n",
    "    print(\"DAY APPROXIMATE \\t POPULATION\")\n",
    "    pp=start_n+p\n",
    "    print(x,\"\\t\\t\\t\",pp)\n",
    "    start_n=pp"
   ]
  },
  {
   "cell_type": "markdown",
   "id": "615137d5",
   "metadata": {},
   "source": [
    "# FOR LOOP(RANGE)(FACTORIALS)"
   ]
  },
  {
   "cell_type": "code",
   "execution_count": 1,
   "id": "d8fd2def",
   "metadata": {},
   "outputs": [
    {
     "name": "stdout",
     "output_type": "stream",
     "text": [
      "Factorial calculator\n",
      "Enter a number: 4\n",
      "The factorial of 4 = 24\n"
     ]
    }
   ],
   "source": [
    "print(\"Factorial calculator\")\n",
    "num=int(input(\"Enter a number: \"))\n",
    "p=num\n",
    "for x in range(1,num):\n",
    "    n=num*x\n",
    "    num=n\n",
    "print(\"The factorial of\",p,\"=\",n)"
   ]
  },
  {
   "cell_type": "markdown",
   "id": "57f6a1cc",
   "metadata": {},
   "source": [
    "# FUNCTION ROCK PAPER SCISSORS"
   ]
  },
  {
   "cell_type": "code",
   "execution_count": 10,
   "id": "a6c14359",
   "metadata": {},
   "outputs": [
    {
     "name": "stdout",
     "output_type": "stream",
     "text": [
      "24\n",
      "GAME OF ROCK, PAPER OR SCISSORS\n",
      "Pick between rock paper or scissors: paper\n",
      "You picked paper\n",
      "The computer picked scissors\n",
      "You win!!!\n",
      "Do you want to continue:yes\n",
      "78\n",
      "GAME OF ROCK, PAPER OR SCISSORS\n",
      "Pick between rock paper or scissors: scissors\n",
      "You picked scissors\n",
      "The computer picked rock\n",
      "You lose!!!\n",
      "Do you want to continue:no\n",
      "Goodbye\n"
     ]
    }
   ],
   "source": [
    "def rock(user):\n",
    "    if user== \"rock\":\n",
    "        print(\"DRAW!!!\")\n",
    "        main()\n",
    "    elif user == \"paper\":\n",
    "        print(\"You win!!!\")\n",
    "    elif user == \"scissors\":\n",
    "        print(\"You lose!!!\")\n",
    "    else:\n",
    "        print(\"Invalid.\")\n",
    "        main()\n",
    "def paper(user):\n",
    "    if user== \"paper\":\n",
    "        print(\"DRAW!!!\")\n",
    "        main()\n",
    "    elif user == \"rock\":\n",
    "        print(\"You win!!!\")\n",
    "    elif user == \"scissors\":\n",
    "        print(\"You lose!!!\")\n",
    "    else:\n",
    "        print(\"Invalid.\")\n",
    "        main()\n",
    "def scissors(user):\n",
    "    if user== \"scissors\":\n",
    "        print(\"DRAW!!!\")\n",
    "        main()\n",
    "    elif user == \"paper\":\n",
    "        print(\"You win!!!\")\n",
    "    elif user == \"rock\":\n",
    "        print(\"You lose!!!\")\n",
    "    else:\n",
    "        print(\"Invalid.\")\n",
    "        main()\n",
    "def main():\n",
    "    import random\n",
    "    MIN = 1\n",
    "    MAX = 100\n",
    "    comp= random.randint(MIN,MAX)\n",
    "    print(comp)\n",
    "    print(\"GAME OF ROCK, PAPER OR SCISSORS\")\n",
    "    user=input(\"Pick between rock paper or scissors: \")\n",
    "    if comp >= 1 and comp <=30:\n",
    "                print(\"You picked\",user)\n",
    "                print(\"The computer picked scissors\")\n",
    "                scissors(user)\n",
    "    elif comp >=31 and comp <=50:\n",
    "                print(\"You picked\",user)\n",
    "                print(\"The computer picked paper\")\n",
    "                paper(user)\n",
    "    else:\n",
    "                print(\"You picked\",user)\n",
    "                print(\"The computer picked rock\")\n",
    "                rock(user)\n",
    "\n",
    "    ans=input(\"Do you want to continue:\")\n",
    "    if ans ==\"yes\":\n",
    "        main()\n",
    "    elif ans == \"no\":\n",
    "        print(\"Goodbye\")\n",
    "        \n",
    "main()\n",
    "            \n",
    "            \n",
    "        \n",
    "        \n",
    "   "
   ]
  },
  {
   "cell_type": "code",
   "execution_count": 12,
   "id": "7e179833",
   "metadata": {},
   "outputs": [
    {
     "name": "stdout",
     "output_type": "stream",
     "text": [
      "The new list:  [45, 13, 2, 67, 17, 51, 80]\n",
      "The total of the numbers in the list is 275\n",
      "The average of the numbers in the list is 39.29\n"
     ]
    }
   ],
   "source": [
    "def maximum(numbers):\n",
    "    for x in numbers:\n",
    "        maxx=numbers[0]\n",
    "        if maxx < numbers[x+1]:\n",
    "            maxx=numbers[x+1]\n",
    "        else:\n",
    "            maxx=maxx\n",
    "    print(maxx)\n",
    "def total(numbers):\n",
    "    total=0\n",
    "    for x in numbers:\n",
    "        total=total+x\n",
    "    print(total)\n",
    "def average(numbers):\n",
    "    total=0\n",
    "    for x in numbers:\n",
    "        total=total+x\n",
    "    average=total/(len(numbers))\n",
    "    print(format(average,\".2f\"))\n",
    "def main():\n",
    "    Numbers=[45,13,290,105,-20,2,67,17,-12,51,80]\n",
    "    valid_numbers=[]\n",
    "    for x in Numbers:\n",
    "        if x>=0 and x<=100:\n",
    "            valid_numbers.append(x)\n",
    "    print(\"The new list: \",valid_numbers)\n",
    "    print(\"The total of the numbers in the list is \",end=\"\")\n",
    "    total(valid_numbers)\n",
    "    print(\"The average of the numbers in the list is \",end=\"\")\n",
    "    average(valid_numbers)\n",
    "    \n",
    "    \n",
    "main()"
   ]
  },
  {
   "cell_type": "code",
   "execution_count": 14,
   "id": "93b026de",
   "metadata": {},
   "outputs": [
    {
     "name": "stdout",
     "output_type": "stream",
     "text": [
      "The sum of the series = 179.4594722548007\n"
     ]
    }
   ],
   "source": [
    "x=50\n",
    "total=0\n",
    "for n in range(0,50):\n",
    "    d=((n+1)/(x-n))\n",
    "    total=total+d\n",
    "print(\"The sum of the series =\",total)"
   ]
  },
  {
   "cell_type": "code",
   "execution_count": 50,
   "id": "42b5c5a4",
   "metadata": {},
   "outputs": [
    {
     "name": "stdout",
     "output_type": "stream",
     "text": [
      "ORIGINAL PRICE= 5000\n",
      "MONDAY PRICE= 4500.0\n",
      "TUESDAY PRICE= 4050.0\n",
      "WEDNESDAY PRICE= 3645.0\n",
      "THURSDAY PRICE= 3280.5\n",
      "FRIDAY PRICE= 2952.45\n"
     ]
    }
   ],
   "source": [
    "def Discount(y):\n",
    "    return 0.1*y\n",
    "    \n",
    "def main():\n",
    "    original=5000\n",
    "    print(\"ORIGINAL PRICE= \",end=\"\")\n",
    "    print(original)\n",
    "    salesdays=[\"MONDAY PRICE=\",\"TUESDAY PRICE=\",\"WEDNESDAY PRICE=\",\"THURSDAY PRICE=\",\"FRIDAY PRICE=\"]\n",
    "    for x in range(5):\n",
    "        price=Discount(original)\n",
    "        nprice=original-price\n",
    "        original=nprice\n",
    "        salesdays.append(nprice)\n",
    "    print(salesdays[0],salesdays[5])\n",
    "    print(salesdays[1],salesdays[6])\n",
    "    print(salesdays[2],salesdays[7])\n",
    "    print(salesdays[3],salesdays[8])\n",
    "    print(salesdays[4],salesdays[9])\n",
    "    \n",
    "main()\n",
    "        "
   ]
  },
  {
   "cell_type": "code",
   "execution_count": 60,
   "id": "afc1c666",
   "metadata": {},
   "outputs": [
    {
     "name": "stdout",
     "output_type": "stream",
     "text": [
      "ENTER YOUR ANSWERS FOR THE EXAM\n",
      "NO 1\n",
      "ENTER YOUR ANSWER: A\n",
      "NO 2\n",
      "ENTER YOUR ANSWER: C\n",
      "NO 3\n",
      "ENTER YOUR ANSWER: A\n",
      "NO 4\n",
      "ENTER YOUR ANSWER: A\n",
      "NO 5\n",
      "ENTER YOUR ANSWER: D\n",
      "NO 6\n",
      "ENTER YOUR ANSWER: B\n",
      "NO 7\n",
      "ENTER YOUR ANSWER: D\n",
      "NO 8\n",
      "ENTER YOUR ANSWER: C\n",
      "NO 9\n",
      "ENTER YOUR ANSWER: A\n",
      "NO 10\n",
      "ENTER YOUR ANSWER: C\n",
      "NO 11\n",
      "ENTER YOUR ANSWER: D\n",
      "NO 12\n",
      "ENTER YOUR ANSWER: B\n",
      "NO 13\n",
      "ENTER YOUR ANSWER: C\n",
      "NO 14\n",
      "ENTER YOUR ANSWER: D\n",
      "NO 15\n",
      "ENTER YOUR ANSWER: A\n",
      "NO 16\n",
      "ENTER YOUR ANSWER: C\n",
      "NO 17\n",
      "ENTER YOUR ANSWER: D\n",
      "NO 18\n",
      "ENTER YOUR ANSWER: B\n",
      "NO 19\n",
      "ENTER YOUR ANSWER: C\n",
      "NO 20\n",
      "ENTER YOUR ANSWER: D\n",
      "You failed the exam\n",
      "The number of correctly answered questions is  9\n",
      "The number of wrongly answered questions is  11\n",
      "The questions you failed are  [7, 8, 9, 10, 11, 12, 14, 15, 17, 19, 20]\n"
     ]
    }
   ],
   "source": [
    "correct=[\"A\",\"C\",\"A\",\"A\",\"D\",\"B\",\"C\",\"A\",\"C\",\"B\",\"A\",\"D\",\"C\",\"A\",\"D\",\"C\",\"B\",\"B\",\"D\",\"A\"]\n",
    "user=[]\n",
    "userbad=[]\n",
    "score=0\n",
    "bad=0\n",
    "print(\"ENTER YOUR ANSWERS FOR THE EXAM\")\n",
    "for x in range(20):\n",
    "    print(\"NO\",x+1)\n",
    "    ans=input(\"ENTER YOUR ANSWER: \")\n",
    "    user.append(ans.upper())\n",
    "for y in range(20):\n",
    "    if user[y] == correct[y]:\n",
    "        score=score+1\n",
    "    else:\n",
    "        bad=bad+1\n",
    "        userbad.append(y+1)\n",
    "if score>= 15:\n",
    "    print(\"You passed the exam\")\n",
    "else:\n",
    "    print(\"You failed the exam\")\n",
    "print(\"The number of correctly answered questions is \",score)\n",
    "print(\"The number of wrongly answered questions is \",bad)\n",
    "if bad>0:\n",
    "    print(\"The questions you failed are \",userbad)\n",
    "    "
   ]
  },
  {
   "cell_type": "code",
   "execution_count": null,
   "id": "51bc6cb7",
   "metadata": {},
   "outputs": [],
   "source": []
  }
 ],
 "metadata": {
  "kernelspec": {
   "display_name": "Python 3",
   "language": "python",
   "name": "python3"
  },
  "language_info": {
   "codemirror_mode": {
    "name": "ipython",
    "version": 3
   },
   "file_extension": ".py",
   "mimetype": "text/x-python",
   "name": "python",
   "nbconvert_exporter": "python",
   "pygments_lexer": "ipython3",
   "version": "3.8.8"
  }
 },
 "nbformat": 4,
 "nbformat_minor": 5
}
