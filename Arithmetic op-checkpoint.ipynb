{
 "cells": [
  {
   "cell_type": "markdown",
   "id": "43837983",
   "metadata": {},
   "source": [
    "# FUNCTIONS PRACTICE"
   ]
  },
  {
   "cell_type": "code",
   "execution_count": 2,
   "id": "161985ba",
   "metadata": {},
   "outputs": [
    {
     "name": "stdout",
     "output_type": "stream",
     "text": [
      "09046382839 James\n"
     ]
    }
   ],
   "source": [
    "def show_details():\n",
    "    name = \"James\"\n",
    "    phoneno=\"09046382839\"\n",
    "    return name,phoneno\n",
    "mainname,mainphoneno = show_details()\n",
    "print(mainphoneno,mainname)"
   ]
  },
  {
   "cell_type": "code",
   "execution_count": 6,
   "id": "8ff6f09d",
   "metadata": {},
   "outputs": [
    {
     "name": "stdout",
     "output_type": "stream",
     "text": [
      "Enter a number:9\n",
      "The square root is  3.0\n"
     ]
    }
   ],
   "source": [
    "import math\n",
    "def sqr(b):\n",
    "    a=math.sqrt(b)\n",
    "    return a\n",
    "g=int(input(\"Enter a number:\"))\n",
    "sqrr= sqr(g)\n",
    "print (\"The square root is \",sqrr)"
   ]
  },
  {
   "cell_type": "markdown",
   "id": "39183298",
   "metadata": {},
   "source": [
    "# List"
   ]
  },
  {
   "cell_type": "code",
   "execution_count": 11,
   "id": "4c566340",
   "metadata": {},
   "outputs": [
    {
     "name": "stdout",
     "output_type": "stream",
     "text": [
      "[2, 4, 'tissue', 'hammer', 'tape', 'clothes', 'heels', 6, 2, 'rings', 'bible']\n",
      "['d', 'o', 'g', ' ', 'c', 'a', 't', ' ', 'h', 'e', 'n', ' ', 'g', 'o', 'a', 't']\n",
      "d  o  g     c  a  t     h  e  n     g  o  a  t  "
     ]
    }
   ],
   "source": [
    "her_list=[\"shoes\",\"bags\",\"makeup\"]\n",
    "his_list=[\"games\",\"headset\",\"tie\"]\n",
    "a=[1,2,3,\"Age\",7.3]\n",
    "my_list=[2,4,\"tissue\",\"hammer\",\"tape\",\"clothes\",\"heels\",6,2,\"rings\",\"bible\"]\n",
    "print(my_list)\n",
    "words=\"dog cat hen goat\"\n",
    "listwords=list(words)\n",
    "print (listwords)\n",
    "for item in listwords:\n",
    "    print(item,end=\"  \")"
   ]
  },
  {
   "cell_type": "code",
   "execution_count": 8,
   "id": "0b721823",
   "metadata": {},
   "outputs": [
    {
     "name": "stdout",
     "output_type": "stream",
     "text": [
      "Enter your name: dare\n",
      "Name found\n",
      "bola\n",
      "10\n"
     ]
    }
   ],
   "source": [
    "names=[\"bola\",\"dare\",\"ayo\",\"siji\",\"azu\",\"tope\",\"kate\",\"cece\",\"timi\",\"ray\"]\n",
    "name_u=input(\"Enter your name: \")\n",
    "if name_u in names:\n",
    "    print(\"Name found\")\n",
    "else:\n",
    "    print(\"Name not found\")\n",
    "print(names[-10])\n",
    "s=len(names)\n",
    "print(s)"
   ]
  },
  {
   "cell_type": "code",
   "execution_count": 47,
   "id": "206a8c4a",
   "metadata": {},
   "outputs": [
    {
     "name": "stdout",
     "output_type": "stream",
     "text": [
      "Enter your name: SOPHIA\n",
      "['SOPHIA', 'dare', 'ayo', 'siji', 'azu', 'tope', 'kate', 'cece', 'timi', 'Dr Azubuike']\n"
     ]
    }
   ],
   "source": [
    "names=[\"bola\",\"dare\",\"ayo\",\"siji\",\"azu\",\"tope\",\"kate\",\"cece\",\"timi\",\"ray\"]\n",
    "name_u=input(\"Enter your name: \")\n",
    "names[0]=name_u\n",
    "names[9]=\"Dr Azubuike\"\n",
    "print(names)"
   ]
  },
  {
   "cell_type": "code",
   "execution_count": 61,
   "id": "29be4d1c",
   "metadata": {},
   "outputs": [
    {
     "name": "stdout",
     "output_type": "stream",
     "text": [
      "['games', 'headset', 'tie', 'shoes', 'bags', 'makeup']\n",
      "['games', 'headset', 'tie', 'shoes', 'bags', 'makeup', 7]\n"
     ]
    }
   ],
   "source": [
    "our_list=his_list+her_list\n",
    "print(our_list)\n",
    "our_list.append(7)\n",
    "print(our_list)"
   ]
  },
  {
   "cell_type": "code",
   "execution_count": 54,
   "id": "4b84d6e3",
   "metadata": {},
   "outputs": [
    {
     "name": "stdout",
     "output_type": "stream",
     "text": [
      "['azu', 'tope']\n"
     ]
    }
   ],
   "source": [
    "print(names[4:6])"
   ]
  },
  {
   "cell_type": "code",
   "execution_count": 60,
   "id": "8109b0b1",
   "metadata": {},
   "outputs": [
    {
     "name": "stdout",
     "output_type": "stream",
     "text": [
      "Enter your name: sophia\n",
      "['games', 'headset', 'tie', 'shoes', 'bags', 'makeup', [7], 'sophia']\n"
     ]
    }
   ],
   "source": [
    "nameu=input(\"Enter your name: \")\n",
    "our_list.append(nameu)\n",
    "print(our_list)"
   ]
  },
  {
   "cell_type": "code",
   "execution_count": 9,
   "id": "f99aa308",
   "metadata": {},
   "outputs": [
    {
     "name": "stdout",
     "output_type": "stream",
     "text": [
      "Enter your name: sas\n",
      "Enter your name: sasd\n",
      "Enter your name: des\n",
      "Enter your name: frd\n",
      "Enter your name: gyy\n",
      "['sas', 'sasd', 'des', 'frd', 'KEVWE', 'gyy']\n"
     ]
    }
   ],
   "source": [
    "our_list=[]\n",
    "for item in range(5):\n",
    "    nameo=input(\"Enter your name: \")\n",
    "    our_list.append(nameo)\n",
    "our_list.insert(4,\"KEVWE\")\n",
    "print(our_list)"
   ]
  },
  {
   "cell_type": "code",
   "execution_count": 70,
   "id": "9c78229c",
   "metadata": {},
   "outputs": [
    {
     "name": "stdout",
     "output_type": "stream",
     "text": [
      "Enter your name: ola\n",
      "The position of  ola in the list is  0\n"
     ]
    }
   ],
   "source": [
    "name__list=[\"ola\",\"tracy\",\"nini\",\"bisi\",\"tolu\",\"ayo\",\"dada\",\"dare\",\"gigi\",\"dede\"]\n",
    "namep=input(\"Enter your name: \")\n",
    "n=name__list.index(namep)\n",
    "print(\"The position of \",namep,\"in the list is \",n)"
   ]
  },
  {
   "cell_type": "code",
   "execution_count": null,
   "id": "bc4da2db",
   "metadata": {},
   "outputs": [
    {
     "name": "stdout",
     "output_type": "stream",
     "text": [
      "Enter your name: siji\n"
     ]
    }
   ],
   "source": [
    "names=[\"bola\",\"dare\",\"ayo\",\"siji\",\"azu\",\"tope\",\"kate\",\"cece\",\"timi\",\"ray\"]\n",
    "name_u=input(\"Enter your name: \")\n",
    "n=names.index(name_u)\n",
    "if name_u in names:\n",
    "    names.remove(name_u)\n",
    "else:\n",
    "    print(\"Name not found\")\n",
    "name_k=input(\"Enter another name: \")\n",
    "names.insert(n,name_k)\n"
   ]
  },
  {
   "cell_type": "markdown",
   "id": "d48a13ab",
   "metadata": {},
   "source": [
    "# LOOPS "
   ]
  },
  {
   "cell_type": "code",
   "execution_count": null,
   "id": "f247d4c5",
   "metadata": {},
   "outputs": [],
   "source": [
    "first_i=1000\n",
    "second_2=1000\n",
    "inputVar=int(input(\"Enter a number: \"))\n",
    "if inputVar > 100:\n",
    "    first_i=first_i + 500\n",
    "    second_2=second_2 + 400\n",
    "else:\n",
    "    first_i=first_i - 300\n",
    "    second_2=second_2 - 150"
   ]
  }
 ],
 "metadata": {
  "kernelspec": {
   "display_name": "Python 3",
   "language": "python",
   "name": "python3"
  },
  "language_info": {
   "codemirror_mode": {
    "name": "ipython",
    "version": 3
   },
   "file_extension": ".py",
   "mimetype": "text/x-python",
   "name": "python",
   "nbconvert_exporter": "python",
   "pygments_lexer": "ipython3",
   "version": "3.8.8"
  }
 },
 "nbformat": 4,
 "nbformat_minor": 5
}
